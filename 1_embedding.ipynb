{
 "cells": [
  {
   "cell_type": "code",
   "execution_count": 2,
   "metadata": {},
   "outputs": [],
   "source": [
    "import tensorflow\n",
    "from tensorflow.keras.preprocessing.text import one_hot"
   ]
  },
  {
   "cell_type": "code",
   "execution_count": 3,
   "metadata": {},
   "outputs": [],
   "source": [
    "### sentences\n",
    "sent=[  'the glass of milk',\n",
    "     'the glass of juice',\n",
    "     'the cup of tea',\n",
    "    'I am a good boy',\n",
    "     'I am a good developer',\n",
    "     'understand the meaning of words',\n",
    "     'your videos are good',]"
   ]
  },
  {
   "cell_type": "code",
   "execution_count": 4,
   "metadata": {},
   "outputs": [
    {
     "data": {
      "text/plain": [
       "['the glass of milk',\n",
       " 'the glass of juice',\n",
       " 'the cup of tea',\n",
       " 'I am a good boy',\n",
       " 'I am a good developer',\n",
       " 'understand the meaning of words',\n",
       " 'your videos are good']"
      ]
     },
     "execution_count": 4,
     "metadata": {},
     "output_type": "execute_result"
    }
   ],
   "source": [
    "sent"
   ]
  },
  {
   "cell_type": "code",
   "execution_count": 5,
   "metadata": {},
   "outputs": [],
   "source": [
    "## Define the vocabulary size\n",
    "voc_size=10000"
   ]
  },
  {
   "cell_type": "code",
   "execution_count": 6,
   "metadata": {},
   "outputs": [
    {
     "data": {
      "text/plain": [
       "['the glass of milk',\n",
       " 'the glass of juice',\n",
       " 'the cup of tea',\n",
       " 'I am a good boy',\n",
       " 'I am a good developer',\n",
       " 'understand the meaning of words',\n",
       " 'your videos are good']"
      ]
     },
     "execution_count": 6,
     "metadata": {},
     "output_type": "execute_result"
    }
   ],
   "source": [
    "sent"
   ]
  },
  {
   "cell_type": "code",
   "execution_count": 7,
   "metadata": {},
   "outputs": [
    {
     "data": {
      "text/plain": [
       "[[35, 6420, 7917, 3774],\n",
       " [35, 6420, 7917, 903],\n",
       " [35, 9711, 7917, 6820],\n",
       " [4480, 8480, 7039, 7912, 5365],\n",
       " [4480, 8480, 7039, 7912, 6324],\n",
       " [4222, 35, 8102, 7917, 6736],\n",
       " [8318, 7510, 8373, 7912]]"
      ]
     },
     "execution_count": 7,
     "metadata": {},
     "output_type": "execute_result"
    }
   ],
   "source": [
    "### One Hot Representation\n",
    "one_hot_repr=[one_hot(words,voc_size)for words in sent]\n",
    "one_hot_repr"
   ]
  },
  {
   "cell_type": "code",
   "execution_count": 17,
   "metadata": {},
   "outputs": [],
   "source": [
    "\n",
    "## word Embedding Representation\n",
    "\n",
    "from tensorflow.keras.layers import Embedding\n",
    "#from tensorflow.keras.processing.sequence import pad_sequences\n",
    "from tensorflow.keras.utils import pad_sequences\n",
    "from tensorflow.keras.models import Sequential\n",
    "from tensorflow.keras.layers import Dense"
   ]
  },
  {
   "cell_type": "code",
   "execution_count": 18,
   "metadata": {},
   "outputs": [],
   "source": [
    "import numpy as np"
   ]
  },
  {
   "cell_type": "code",
   "execution_count": 19,
   "metadata": {},
   "outputs": [
    {
     "name": "stdout",
     "output_type": "stream",
     "text": [
      "[[   0    0    0    0   35 6420 7917 3774]\n",
      " [   0    0    0    0   35 6420 7917  903]\n",
      " [   0    0    0    0   35 9711 7917 6820]\n",
      " [   0    0    0 4480 8480 7039 7912 5365]\n",
      " [   0    0    0 4480 8480 7039 7912 6324]\n",
      " [   0    0    0 4222   35 8102 7917 6736]\n",
      " [   0    0    0    0 8318 7510 8373 7912]]\n"
     ]
    }
   ],
   "source": [
    "## we have to make all sentences of same length\n",
    "sent_length=8\n",
    "embedded_docs=pad_sequences(one_hot_repr,padding='pre',maxlen=sent_length)\n",
    "print(embedded_docs)"
   ]
  },
  {
   "cell_type": "code",
   "execution_count": 20,
   "metadata": {},
   "outputs": [],
   "source": [
    "## feature representation\n",
    "dim=10         # here we are using 10 dimensions instead of 300"
   ]
  },
  {
   "cell_type": "code",
   "execution_count": 24,
   "metadata": {},
   "outputs": [
    {
     "data": {
      "text/html": [
       "<pre style=\"white-space:pre;overflow-x:auto;line-height:normal;font-family:Menlo,'DejaVu Sans Mono',consolas,'Courier New',monospace\"><span style=\"font-weight: bold\">Model: \"sequential_2\"</span>\n",
       "</pre>\n"
      ],
      "text/plain": [
       "\u001b[1mModel: \"sequential_2\"\u001b[0m\n"
      ]
     },
     "metadata": {},
     "output_type": "display_data"
    },
    {
     "data": {
      "text/html": [
       "<pre style=\"white-space:pre;overflow-x:auto;line-height:normal;font-family:Menlo,'DejaVu Sans Mono',consolas,'Courier New',monospace\">┏━━━━━━━━━━━━━━━━━━━━━━━━━━━━━━━━━┳━━━━━━━━━━━━━━━━━━━━━━━━┳━━━━━━━━━━━━━━━┓\n",
       "┃<span style=\"font-weight: bold\"> Layer (type)                    </span>┃<span style=\"font-weight: bold\"> Output Shape           </span>┃<span style=\"font-weight: bold\">       Param # </span>┃\n",
       "┡━━━━━━━━━━━━━━━━━━━━━━━━━━━━━━━━━╇━━━━━━━━━━━━━━━━━━━━━━━━╇━━━━━━━━━━━━━━━┩\n",
       "│ embedding_2 (<span style=\"color: #0087ff; text-decoration-color: #0087ff\">Embedding</span>)         │ (<span style=\"color: #00d7ff; text-decoration-color: #00d7ff\">None</span>, <span style=\"color: #00af00; text-decoration-color: #00af00\">8</span>, <span style=\"color: #00af00; text-decoration-color: #00af00\">10</span>)          │       <span style=\"color: #00af00; text-decoration-color: #00af00\">100,000</span> │\n",
       "└─────────────────────────────────┴────────────────────────┴───────────────┘\n",
       "</pre>\n"
      ],
      "text/plain": [
       "┏━━━━━━━━━━━━━━━━━━━━━━━━━━━━━━━━━┳━━━━━━━━━━━━━━━━━━━━━━━━┳━━━━━━━━━━━━━━━┓\n",
       "┃\u001b[1m \u001b[0m\u001b[1mLayer (type)                   \u001b[0m\u001b[1m \u001b[0m┃\u001b[1m \u001b[0m\u001b[1mOutput Shape          \u001b[0m\u001b[1m \u001b[0m┃\u001b[1m \u001b[0m\u001b[1m      Param #\u001b[0m\u001b[1m \u001b[0m┃\n",
       "┡━━━━━━━━━━━━━━━━━━━━━━━━━━━━━━━━━╇━━━━━━━━━━━━━━━━━━━━━━━━╇━━━━━━━━━━━━━━━┩\n",
       "│ embedding_2 (\u001b[38;5;33mEmbedding\u001b[0m)         │ (\u001b[38;5;45mNone\u001b[0m, \u001b[38;5;34m8\u001b[0m, \u001b[38;5;34m10\u001b[0m)          │       \u001b[38;5;34m100,000\u001b[0m │\n",
       "└─────────────────────────────────┴────────────────────────┴───────────────┘\n"
      ]
     },
     "metadata": {},
     "output_type": "display_data"
    },
    {
     "data": {
      "text/html": [
       "<pre style=\"white-space:pre;overflow-x:auto;line-height:normal;font-family:Menlo,'DejaVu Sans Mono',consolas,'Courier New',monospace\"><span style=\"font-weight: bold\"> Total params: </span><span style=\"color: #00af00; text-decoration-color: #00af00\">100,000</span> (390.62 KB)\n",
       "</pre>\n"
      ],
      "text/plain": [
       "\u001b[1m Total params: \u001b[0m\u001b[38;5;34m100,000\u001b[0m (390.62 KB)\n"
      ]
     },
     "metadata": {},
     "output_type": "display_data"
    },
    {
     "data": {
      "text/html": [
       "<pre style=\"white-space:pre;overflow-x:auto;line-height:normal;font-family:Menlo,'DejaVu Sans Mono',consolas,'Courier New',monospace\"><span style=\"font-weight: bold\"> Trainable params: </span><span style=\"color: #00af00; text-decoration-color: #00af00\">100,000</span> (390.62 KB)\n",
       "</pre>\n"
      ],
      "text/plain": [
       "\u001b[1m Trainable params: \u001b[0m\u001b[38;5;34m100,000\u001b[0m (390.62 KB)\n"
      ]
     },
     "metadata": {},
     "output_type": "display_data"
    },
    {
     "data": {
      "text/html": [
       "<pre style=\"white-space:pre;overflow-x:auto;line-height:normal;font-family:Menlo,'DejaVu Sans Mono',consolas,'Courier New',monospace\"><span style=\"font-weight: bold\"> Non-trainable params: </span><span style=\"color: #00af00; text-decoration-color: #00af00\">0</span> (0.00 B)\n",
       "</pre>\n"
      ],
      "text/plain": [
       "\u001b[1m Non-trainable params: \u001b[0m\u001b[38;5;34m0\u001b[0m (0.00 B)\n"
      ]
     },
     "metadata": {},
     "output_type": "display_data"
    }
   ],
   "source": [
    "model = Sequential()\n",
    "model.add(Embedding(input_dim=10000, output_dim=10))\n",
    "model.build(input_shape=(None, 8))  # 8 = sentence length\n",
    "model.summary()"
   ]
  },
  {
   "cell_type": "code",
   "execution_count": 25,
   "metadata": {},
   "outputs": [
    {
     "data": {
      "text/html": [
       "<pre style=\"white-space:pre;overflow-x:auto;line-height:normal;font-family:Menlo,'DejaVu Sans Mono',consolas,'Courier New',monospace\"><span style=\"font-weight: bold\">Model: \"sequential_3\"</span>\n",
       "</pre>\n"
      ],
      "text/plain": [
       "\u001b[1mModel: \"sequential_3\"\u001b[0m\n"
      ]
     },
     "metadata": {},
     "output_type": "display_data"
    },
    {
     "data": {
      "text/html": [
       "<pre style=\"white-space:pre;overflow-x:auto;line-height:normal;font-family:Menlo,'DejaVu Sans Mono',consolas,'Courier New',monospace\">┏━━━━━━━━━━━━━━━━━━━━━━━━━━━━━━━━━┳━━━━━━━━━━━━━━━━━━━━━━━━┳━━━━━━━━━━━━━━━┓\n",
       "┃<span style=\"font-weight: bold\"> Layer (type)                    </span>┃<span style=\"font-weight: bold\"> Output Shape           </span>┃<span style=\"font-weight: bold\">       Param # </span>┃\n",
       "┡━━━━━━━━━━━━━━━━━━━━━━━━━━━━━━━━━╇━━━━━━━━━━━━━━━━━━━━━━━━╇━━━━━━━━━━━━━━━┩\n",
       "│ embedding_3 (<span style=\"color: #0087ff; text-decoration-color: #0087ff\">Embedding</span>)         │ (<span style=\"color: #00d7ff; text-decoration-color: #00d7ff\">None</span>, <span style=\"color: #00af00; text-decoration-color: #00af00\">8</span>, <span style=\"color: #00af00; text-decoration-color: #00af00\">10</span>)          │       <span style=\"color: #00af00; text-decoration-color: #00af00\">100,000</span> │\n",
       "└─────────────────────────────────┴────────────────────────┴───────────────┘\n",
       "</pre>\n"
      ],
      "text/plain": [
       "┏━━━━━━━━━━━━━━━━━━━━━━━━━━━━━━━━━┳━━━━━━━━━━━━━━━━━━━━━━━━┳━━━━━━━━━━━━━━━┓\n",
       "┃\u001b[1m \u001b[0m\u001b[1mLayer (type)                   \u001b[0m\u001b[1m \u001b[0m┃\u001b[1m \u001b[0m\u001b[1mOutput Shape          \u001b[0m\u001b[1m \u001b[0m┃\u001b[1m \u001b[0m\u001b[1m      Param #\u001b[0m\u001b[1m \u001b[0m┃\n",
       "┡━━━━━━━━━━━━━━━━━━━━━━━━━━━━━━━━━╇━━━━━━━━━━━━━━━━━━━━━━━━╇━━━━━━━━━━━━━━━┩\n",
       "│ embedding_3 (\u001b[38;5;33mEmbedding\u001b[0m)         │ (\u001b[38;5;45mNone\u001b[0m, \u001b[38;5;34m8\u001b[0m, \u001b[38;5;34m10\u001b[0m)          │       \u001b[38;5;34m100,000\u001b[0m │\n",
       "└─────────────────────────────────┴────────────────────────┴───────────────┘\n"
      ]
     },
     "metadata": {},
     "output_type": "display_data"
    },
    {
     "data": {
      "text/html": [
       "<pre style=\"white-space:pre;overflow-x:auto;line-height:normal;font-family:Menlo,'DejaVu Sans Mono',consolas,'Courier New',monospace\"><span style=\"font-weight: bold\"> Total params: </span><span style=\"color: #00af00; text-decoration-color: #00af00\">100,000</span> (390.62 KB)\n",
       "</pre>\n"
      ],
      "text/plain": [
       "\u001b[1m Total params: \u001b[0m\u001b[38;5;34m100,000\u001b[0m (390.62 KB)\n"
      ]
     },
     "metadata": {},
     "output_type": "display_data"
    },
    {
     "data": {
      "text/html": [
       "<pre style=\"white-space:pre;overflow-x:auto;line-height:normal;font-family:Menlo,'DejaVu Sans Mono',consolas,'Courier New',monospace\"><span style=\"font-weight: bold\"> Trainable params: </span><span style=\"color: #00af00; text-decoration-color: #00af00\">100,000</span> (390.62 KB)\n",
       "</pre>\n"
      ],
      "text/plain": [
       "\u001b[1m Trainable params: \u001b[0m\u001b[38;5;34m100,000\u001b[0m (390.62 KB)\n"
      ]
     },
     "metadata": {},
     "output_type": "display_data"
    },
    {
     "data": {
      "text/html": [
       "<pre style=\"white-space:pre;overflow-x:auto;line-height:normal;font-family:Menlo,'DejaVu Sans Mono',consolas,'Courier New',monospace\"><span style=\"font-weight: bold\"> Non-trainable params: </span><span style=\"color: #00af00; text-decoration-color: #00af00\">0</span> (0.00 B)\n",
       "</pre>\n"
      ],
      "text/plain": [
       "\u001b[1m Non-trainable params: \u001b[0m\u001b[38;5;34m0\u001b[0m (0.00 B)\n"
      ]
     },
     "metadata": {},
     "output_type": "display_data"
    }
   ],
   "source": [
    "from tensorflow.keras import Input\n",
    "\n",
    "model = Sequential([\n",
    "    Input(shape=(8,)),\n",
    "    Embedding(input_dim=10000, output_dim=10)\n",
    "])\n",
    "model.summary()"
   ]
  },
  {
   "cell_type": "code",
   "execution_count": 26,
   "metadata": {},
   "outputs": [
    {
     "data": {
      "text/html": [
       "<pre style=\"white-space:pre;overflow-x:auto;line-height:normal;font-family:Menlo,'DejaVu Sans Mono',consolas,'Courier New',monospace\"><span style=\"font-weight: bold\">Model: \"sequential_4\"</span>\n",
       "</pre>\n"
      ],
      "text/plain": [
       "\u001b[1mModel: \"sequential_4\"\u001b[0m\n"
      ]
     },
     "metadata": {},
     "output_type": "display_data"
    },
    {
     "data": {
      "text/html": [
       "<pre style=\"white-space:pre;overflow-x:auto;line-height:normal;font-family:Menlo,'DejaVu Sans Mono',consolas,'Courier New',monospace\">┏━━━━━━━━━━━━━━━━━━━━━━━━━━━━━━━━━┳━━━━━━━━━━━━━━━━━━━━━━━━┳━━━━━━━━━━━━━━━┓\n",
       "┃<span style=\"font-weight: bold\"> Layer (type)                    </span>┃<span style=\"font-weight: bold\"> Output Shape           </span>┃<span style=\"font-weight: bold\">       Param # </span>┃\n",
       "┡━━━━━━━━━━━━━━━━━━━━━━━━━━━━━━━━━╇━━━━━━━━━━━━━━━━━━━━━━━━╇━━━━━━━━━━━━━━━┩\n",
       "│ embedding_4 (<span style=\"color: #0087ff; text-decoration-color: #0087ff\">Embedding</span>)         │ (<span style=\"color: #00af00; text-decoration-color: #00af00\">7</span>, <span style=\"color: #00af00; text-decoration-color: #00af00\">8</span>, <span style=\"color: #00af00; text-decoration-color: #00af00\">10</span>)             │       <span style=\"color: #00af00; text-decoration-color: #00af00\">100,000</span> │\n",
       "└─────────────────────────────────┴────────────────────────┴───────────────┘\n",
       "</pre>\n"
      ],
      "text/plain": [
       "┏━━━━━━━━━━━━━━━━━━━━━━━━━━━━━━━━━┳━━━━━━━━━━━━━━━━━━━━━━━━┳━━━━━━━━━━━━━━━┓\n",
       "┃\u001b[1m \u001b[0m\u001b[1mLayer (type)                   \u001b[0m\u001b[1m \u001b[0m┃\u001b[1m \u001b[0m\u001b[1mOutput Shape          \u001b[0m\u001b[1m \u001b[0m┃\u001b[1m \u001b[0m\u001b[1m      Param #\u001b[0m\u001b[1m \u001b[0m┃\n",
       "┡━━━━━━━━━━━━━━━━━━━━━━━━━━━━━━━━━╇━━━━━━━━━━━━━━━━━━━━━━━━╇━━━━━━━━━━━━━━━┩\n",
       "│ embedding_4 (\u001b[38;5;33mEmbedding\u001b[0m)         │ (\u001b[38;5;34m7\u001b[0m, \u001b[38;5;34m8\u001b[0m, \u001b[38;5;34m10\u001b[0m)             │       \u001b[38;5;34m100,000\u001b[0m │\n",
       "└─────────────────────────────────┴────────────────────────┴───────────────┘\n"
      ]
     },
     "metadata": {},
     "output_type": "display_data"
    },
    {
     "data": {
      "text/html": [
       "<pre style=\"white-space:pre;overflow-x:auto;line-height:normal;font-family:Menlo,'DejaVu Sans Mono',consolas,'Courier New',monospace\"><span style=\"font-weight: bold\"> Total params: </span><span style=\"color: #00af00; text-decoration-color: #00af00\">100,000</span> (390.62 KB)\n",
       "</pre>\n"
      ],
      "text/plain": [
       "\u001b[1m Total params: \u001b[0m\u001b[38;5;34m100,000\u001b[0m (390.62 KB)\n"
      ]
     },
     "metadata": {},
     "output_type": "display_data"
    },
    {
     "data": {
      "text/html": [
       "<pre style=\"white-space:pre;overflow-x:auto;line-height:normal;font-family:Menlo,'DejaVu Sans Mono',consolas,'Courier New',monospace\"><span style=\"font-weight: bold\"> Trainable params: </span><span style=\"color: #00af00; text-decoration-color: #00af00\">100,000</span> (390.62 KB)\n",
       "</pre>\n"
      ],
      "text/plain": [
       "\u001b[1m Trainable params: \u001b[0m\u001b[38;5;34m100,000\u001b[0m (390.62 KB)\n"
      ]
     },
     "metadata": {},
     "output_type": "display_data"
    },
    {
     "data": {
      "text/html": [
       "<pre style=\"white-space:pre;overflow-x:auto;line-height:normal;font-family:Menlo,'DejaVu Sans Mono',consolas,'Courier New',monospace\"><span style=\"font-weight: bold\"> Non-trainable params: </span><span style=\"color: #00af00; text-decoration-color: #00af00\">0</span> (0.00 B)\n",
       "</pre>\n"
      ],
      "text/plain": [
       "\u001b[1m Non-trainable params: \u001b[0m\u001b[38;5;34m0\u001b[0m (0.00 B)\n"
      ]
     },
     "metadata": {},
     "output_type": "display_data"
    }
   ],
   "source": [
    "model = Sequential()\n",
    "model.add(Embedding(input_dim=10000, output_dim=10))\n",
    "model(np.array(embedded_docs))  # Call the model once\n",
    "model.summary()"
   ]
  },
  {
   "cell_type": "code",
   "execution_count": 27,
   "metadata": {},
   "outputs": [
    {
     "name": "stdout",
     "output_type": "stream",
     "text": [
      "\u001b[1m1/1\u001b[0m \u001b[32m━━━━━━━━━━━━━━━━━━━━\u001b[0m\u001b[37m\u001b[0m \u001b[1m0s\u001b[0m 114ms/step\n"
     ]
    },
    {
     "data": {
      "text/plain": [
       "array([[[-0.02572331, -0.00419756, -0.01576333, -0.00369692,\n",
       "         -0.04649016, -0.02225201, -0.04041226, -0.02301608,\n",
       "         -0.04000423,  0.01110721],\n",
       "        [-0.02572331, -0.00419756, -0.01576333, -0.00369692,\n",
       "         -0.04649016, -0.02225201, -0.04041226, -0.02301608,\n",
       "         -0.04000423,  0.01110721],\n",
       "        [-0.02572331, -0.00419756, -0.01576333, -0.00369692,\n",
       "         -0.04649016, -0.02225201, -0.04041226, -0.02301608,\n",
       "         -0.04000423,  0.01110721],\n",
       "        [-0.02572331, -0.00419756, -0.01576333, -0.00369692,\n",
       "         -0.04649016, -0.02225201, -0.04041226, -0.02301608,\n",
       "         -0.04000423,  0.01110721],\n",
       "        [ 0.01212991,  0.01592976,  0.04301086,  0.01855068,\n",
       "          0.00927285,  0.0392719 ,  0.04465056, -0.02398583,\n",
       "          0.04329601,  0.04723711],\n",
       "        [ 0.02037854, -0.01609875, -0.01944778,  0.04102537,\n",
       "          0.03628058,  0.04142476, -0.02564578,  0.01296452,\n",
       "         -0.00861623,  0.0484801 ],\n",
       "        [-0.03125398,  0.03641218,  0.02229737, -0.01478831,\n",
       "         -0.02373741, -0.03857319, -0.04468516, -0.00562824,\n",
       "         -0.02607301,  0.03611059],\n",
       "        [ 0.04673724,  0.01854653,  0.02541969, -0.02932967,\n",
       "          0.03029862, -0.03654375,  0.03916128,  0.03733036,\n",
       "         -0.04626008,  0.03639475]],\n",
       "\n",
       "       [[-0.02572331, -0.00419756, -0.01576333, -0.00369692,\n",
       "         -0.04649016, -0.02225201, -0.04041226, -0.02301608,\n",
       "         -0.04000423,  0.01110721],\n",
       "        [-0.02572331, -0.00419756, -0.01576333, -0.00369692,\n",
       "         -0.04649016, -0.02225201, -0.04041226, -0.02301608,\n",
       "         -0.04000423,  0.01110721],\n",
       "        [-0.02572331, -0.00419756, -0.01576333, -0.00369692,\n",
       "         -0.04649016, -0.02225201, -0.04041226, -0.02301608,\n",
       "         -0.04000423,  0.01110721],\n",
       "        [-0.02572331, -0.00419756, -0.01576333, -0.00369692,\n",
       "         -0.04649016, -0.02225201, -0.04041226, -0.02301608,\n",
       "         -0.04000423,  0.01110721],\n",
       "        [ 0.01212991,  0.01592976,  0.04301086,  0.01855068,\n",
       "          0.00927285,  0.0392719 ,  0.04465056, -0.02398583,\n",
       "          0.04329601,  0.04723711],\n",
       "        [ 0.02037854, -0.01609875, -0.01944778,  0.04102537,\n",
       "          0.03628058,  0.04142476, -0.02564578,  0.01296452,\n",
       "         -0.00861623,  0.0484801 ],\n",
       "        [-0.03125398,  0.03641218,  0.02229737, -0.01478831,\n",
       "         -0.02373741, -0.03857319, -0.04468516, -0.00562824,\n",
       "         -0.02607301,  0.03611059],\n",
       "        [ 0.04116795, -0.03710719,  0.02780021, -0.0422285 ,\n",
       "          0.04365866, -0.03814081, -0.04116279,  0.03967739,\n",
       "          0.01810713,  0.00719474]],\n",
       "\n",
       "       [[-0.02572331, -0.00419756, -0.01576333, -0.00369692,\n",
       "         -0.04649016, -0.02225201, -0.04041226, -0.02301608,\n",
       "         -0.04000423,  0.01110721],\n",
       "        [-0.02572331, -0.00419756, -0.01576333, -0.00369692,\n",
       "         -0.04649016, -0.02225201, -0.04041226, -0.02301608,\n",
       "         -0.04000423,  0.01110721],\n",
       "        [-0.02572331, -0.00419756, -0.01576333, -0.00369692,\n",
       "         -0.04649016, -0.02225201, -0.04041226, -0.02301608,\n",
       "         -0.04000423,  0.01110721],\n",
       "        [-0.02572331, -0.00419756, -0.01576333, -0.00369692,\n",
       "         -0.04649016, -0.02225201, -0.04041226, -0.02301608,\n",
       "         -0.04000423,  0.01110721],\n",
       "        [ 0.01212991,  0.01592976,  0.04301086,  0.01855068,\n",
       "          0.00927285,  0.0392719 ,  0.04465056, -0.02398583,\n",
       "          0.04329601,  0.04723711],\n",
       "        [ 0.03290899, -0.02568193,  0.03124162, -0.04308812,\n",
       "         -0.00332366,  0.03705898, -0.04696772,  0.04055145,\n",
       "          0.02576994,  0.00353194],\n",
       "        [-0.03125398,  0.03641218,  0.02229737, -0.01478831,\n",
       "         -0.02373741, -0.03857319, -0.04468516, -0.00562824,\n",
       "         -0.02607301,  0.03611059],\n",
       "        [ 0.02687592, -0.00580951, -0.00822339, -0.03209237,\n",
       "          0.04146207, -0.0087306 ,  0.00533692,  0.01265696,\n",
       "         -0.00146462, -0.00541189]],\n",
       "\n",
       "       [[-0.02572331, -0.00419756, -0.01576333, -0.00369692,\n",
       "         -0.04649016, -0.02225201, -0.04041226, -0.02301608,\n",
       "         -0.04000423,  0.01110721],\n",
       "        [-0.02572331, -0.00419756, -0.01576333, -0.00369692,\n",
       "         -0.04649016, -0.02225201, -0.04041226, -0.02301608,\n",
       "         -0.04000423,  0.01110721],\n",
       "        [-0.02572331, -0.00419756, -0.01576333, -0.00369692,\n",
       "         -0.04649016, -0.02225201, -0.04041226, -0.02301608,\n",
       "         -0.04000423,  0.01110721],\n",
       "        [-0.03989255,  0.01585903,  0.03412432, -0.00019164,\n",
       "         -0.00772255, -0.01661556, -0.00950757, -0.02224466,\n",
       "          0.03370333,  0.02451165],\n",
       "        [-0.0312741 ,  0.00428011, -0.03550354, -0.00851578,\n",
       "         -0.02893736, -0.02181187, -0.02012737, -0.00924958,\n",
       "          0.00285369, -0.00369421],\n",
       "        [-0.00794771,  0.00466835,  0.04401136,  0.00840319,\n",
       "          0.01859423, -0.03755424,  0.01069408,  0.03305732,\n",
       "         -0.00053947, -0.03820032],\n",
       "        [-0.04028366, -0.00327146, -0.01974443, -0.04641037,\n",
       "         -0.01865909, -0.01148777,  0.04074147,  0.01064362,\n",
       "         -0.04989674,  0.00777574],\n",
       "        [ 0.04782159, -0.01728594,  0.00416652, -0.04182015,\n",
       "          0.00868647, -0.04435882, -0.03194714,  0.04857314,\n",
       "         -0.00877867, -0.04021489]],\n",
       "\n",
       "       [[-0.02572331, -0.00419756, -0.01576333, -0.00369692,\n",
       "         -0.04649016, -0.02225201, -0.04041226, -0.02301608,\n",
       "         -0.04000423,  0.01110721],\n",
       "        [-0.02572331, -0.00419756, -0.01576333, -0.00369692,\n",
       "         -0.04649016, -0.02225201, -0.04041226, -0.02301608,\n",
       "         -0.04000423,  0.01110721],\n",
       "        [-0.02572331, -0.00419756, -0.01576333, -0.00369692,\n",
       "         -0.04649016, -0.02225201, -0.04041226, -0.02301608,\n",
       "         -0.04000423,  0.01110721],\n",
       "        [-0.03989255,  0.01585903,  0.03412432, -0.00019164,\n",
       "         -0.00772255, -0.01661556, -0.00950757, -0.02224466,\n",
       "          0.03370333,  0.02451165],\n",
       "        [-0.0312741 ,  0.00428011, -0.03550354, -0.00851578,\n",
       "         -0.02893736, -0.02181187, -0.02012737, -0.00924958,\n",
       "          0.00285369, -0.00369421],\n",
       "        [-0.00794771,  0.00466835,  0.04401136,  0.00840319,\n",
       "          0.01859423, -0.03755424,  0.01069408,  0.03305732,\n",
       "         -0.00053947, -0.03820032],\n",
       "        [-0.04028366, -0.00327146, -0.01974443, -0.04641037,\n",
       "         -0.01865909, -0.01148777,  0.04074147,  0.01064362,\n",
       "         -0.04989674,  0.00777574],\n",
       "        [ 0.04471457, -0.0047702 , -0.00987707,  0.04098525,\n",
       "         -0.02016107, -0.01254517, -0.03296395, -0.02737527,\n",
       "          0.02223805, -0.04584291]],\n",
       "\n",
       "       [[-0.02572331, -0.00419756, -0.01576333, -0.00369692,\n",
       "         -0.04649016, -0.02225201, -0.04041226, -0.02301608,\n",
       "         -0.04000423,  0.01110721],\n",
       "        [-0.02572331, -0.00419756, -0.01576333, -0.00369692,\n",
       "         -0.04649016, -0.02225201, -0.04041226, -0.02301608,\n",
       "         -0.04000423,  0.01110721],\n",
       "        [-0.02572331, -0.00419756, -0.01576333, -0.00369692,\n",
       "         -0.04649016, -0.02225201, -0.04041226, -0.02301608,\n",
       "         -0.04000423,  0.01110721],\n",
       "        [ 0.03500691,  0.01454537, -0.00733561, -0.01541843,\n",
       "         -0.03764445, -0.04172937, -0.00467545,  0.02591187,\n",
       "          0.01364249, -0.02661271],\n",
       "        [ 0.01212991,  0.01592976,  0.04301086,  0.01855068,\n",
       "          0.00927285,  0.0392719 ,  0.04465056, -0.02398583,\n",
       "          0.04329601,  0.04723711],\n",
       "        [ 0.01426032, -0.04571924, -0.01157452,  0.0352038 ,\n",
       "          0.00662852,  0.01459404, -0.00824568,  0.0007156 ,\n",
       "         -0.04385708,  0.00082004],\n",
       "        [-0.03125398,  0.03641218,  0.02229737, -0.01478831,\n",
       "         -0.02373741, -0.03857319, -0.04468516, -0.00562824,\n",
       "         -0.02607301,  0.03611059],\n",
       "        [ 0.01673541,  0.03195735,  0.00644005,  0.01339353,\n",
       "          0.04582658,  0.03961717,  0.01804273, -0.00147257,\n",
       "          0.02321229,  0.00557034]],\n",
       "\n",
       "       [[-0.02572331, -0.00419756, -0.01576333, -0.00369692,\n",
       "         -0.04649016, -0.02225201, -0.04041226, -0.02301608,\n",
       "         -0.04000423,  0.01110721],\n",
       "        [-0.02572331, -0.00419756, -0.01576333, -0.00369692,\n",
       "         -0.04649016, -0.02225201, -0.04041226, -0.02301608,\n",
       "         -0.04000423,  0.01110721],\n",
       "        [-0.02572331, -0.00419756, -0.01576333, -0.00369692,\n",
       "         -0.04649016, -0.02225201, -0.04041226, -0.02301608,\n",
       "         -0.04000423,  0.01110721],\n",
       "        [-0.02572331, -0.00419756, -0.01576333, -0.00369692,\n",
       "         -0.04649016, -0.02225201, -0.04041226, -0.02301608,\n",
       "         -0.04000423,  0.01110721],\n",
       "        [-0.026495  , -0.02094191,  0.0463884 ,  0.0360075 ,\n",
       "         -0.02666   ,  0.03304866, -0.03415326,  0.01728023,\n",
       "          0.02315314, -0.0420735 ],\n",
       "        [ 0.04062715, -0.02859592,  0.01134471,  0.04046949,\n",
       "          0.04702261, -0.02941061,  0.04118851,  0.04201407,\n",
       "         -0.04552427, -0.01007202],\n",
       "        [-0.00212034, -0.02116454, -0.04096273,  0.03313566,\n",
       "         -0.01749103,  0.041919  , -0.02173598, -0.03246145,\n",
       "         -0.03925271,  0.04789101],\n",
       "        [-0.04028366, -0.00327146, -0.01974443, -0.04641037,\n",
       "         -0.01865909, -0.01148777,  0.04074147,  0.01064362,\n",
       "         -0.04989674,  0.00777574]]], dtype=float32)"
      ]
     },
     "execution_count": 27,
     "metadata": {},
     "output_type": "execute_result"
    }
   ],
   "source": [
    "model.predict(embedded_docs)"
   ]
  },
  {
   "cell_type": "code",
   "execution_count": 28,
   "metadata": {},
   "outputs": [
    {
     "data": {
      "text/plain": [
       "array([   0,    0,    0,    0,   35, 6420, 7917, 3774], dtype=int32)"
      ]
     },
     "execution_count": 28,
     "metadata": {},
     "output_type": "execute_result"
    }
   ],
   "source": [
    "embedded_docs[0]"
   ]
  },
  {
   "cell_type": "code",
   "execution_count": 29,
   "metadata": {},
   "outputs": [
    {
     "name": "stdout",
     "output_type": "stream",
     "text": [
      "\u001b[1m1/1\u001b[0m \u001b[32m━━━━━━━━━━━━━━━━━━━━\u001b[0m\u001b[37m\u001b[0m \u001b[1m0s\u001b[0m 79ms/step\n"
     ]
    },
    {
     "data": {
      "text/plain": [
       "array([[[-0.02572331, -0.00419756, -0.01576333, -0.00369692,\n",
       "         -0.04649016, -0.02225201, -0.04041226, -0.02301608,\n",
       "         -0.04000423,  0.01110721],\n",
       "        [-0.02572331, -0.00419756, -0.01576333, -0.00369692,\n",
       "         -0.04649016, -0.02225201, -0.04041226, -0.02301608,\n",
       "         -0.04000423,  0.01110721],\n",
       "        [-0.02572331, -0.00419756, -0.01576333, -0.00369692,\n",
       "         -0.04649016, -0.02225201, -0.04041226, -0.02301608,\n",
       "         -0.04000423,  0.01110721],\n",
       "        [-0.02572331, -0.00419756, -0.01576333, -0.00369692,\n",
       "         -0.04649016, -0.02225201, -0.04041226, -0.02301608,\n",
       "         -0.04000423,  0.01110721],\n",
       "        [ 0.01212991,  0.01592976,  0.04301086,  0.01855068,\n",
       "          0.00927285,  0.0392719 ,  0.04465056, -0.02398583,\n",
       "          0.04329601,  0.04723711],\n",
       "        [ 0.02037854, -0.01609875, -0.01944778,  0.04102537,\n",
       "          0.03628058,  0.04142476, -0.02564578,  0.01296452,\n",
       "         -0.00861623,  0.0484801 ],\n",
       "        [-0.03125398,  0.03641218,  0.02229737, -0.01478831,\n",
       "         -0.02373741, -0.03857319, -0.04468516, -0.00562824,\n",
       "         -0.02607301,  0.03611059],\n",
       "        [ 0.04673724,  0.01854653,  0.02541969, -0.02932967,\n",
       "          0.03029862, -0.03654375,  0.03916128,  0.03733036,\n",
       "         -0.04626008,  0.03639475]]], dtype=float32)"
      ]
     },
     "execution_count": 29,
     "metadata": {},
     "output_type": "execute_result"
    }
   ],
   "source": [
    "model.predict(np.array([embedded_docs[0]]))"
   ]
  },
  {
   "cell_type": "code",
   "execution_count": null,
   "metadata": {},
   "outputs": [],
   "source": []
  }
 ],
 "metadata": {
  "kernelspec": {
   "display_name": "py311",
   "language": "python",
   "name": "python3"
  },
  "language_info": {
   "codemirror_mode": {
    "name": "ipython",
    "version": 3
   },
   "file_extension": ".py",
   "mimetype": "text/x-python",
   "name": "python",
   "nbconvert_exporter": "python",
   "pygments_lexer": "ipython3",
   "version": "3.11.7"
  }
 },
 "nbformat": 4,
 "nbformat_minor": 2
}
